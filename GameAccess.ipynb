{
 "cells": [
  {
   "cell_type": "markdown",
   "metadata": {},
   "source": [
    "To install Unity mlagent library follow the instruction provided in their documentaion\n",
    "\n",
    "https://github.com/Unity-Technologies/ml-agents/blob/master/docs/Installation.md"
   ]
  },
  {
   "cell_type": "code",
   "execution_count": 1,
   "metadata": {},
   "outputs": [],
   "source": [
    "# To test if the library instalation successfull run the following\n",
    "from mlagents.envs import UnityEnvironment\n",
    "# If no error occors instalation is success "
   ]
  },
  {
   "cell_type": "markdown",
   "metadata": {},
   "source": [
    "Download the game from following link\n",
    "https://drive.google.com/drive/u/0/folders/155Z71QdXSCa7XRmnzXggb1ZwJl-A6iZd\n",
    "\n",
    "<b> Windows users : </b> windows_build \n",
    "\n",
    "<b> Linux users   : </b> linux_build"
   ]
  },
  {
   "cell_type": "code",
   "execution_count": 2,
   "metadata": {},
   "outputs": [],
   "source": [
    "# symbolic representation "
   ]
  },
  {
   "cell_type": "code",
   "execution_count": 3,
   "metadata": {},
   "outputs": [],
   "source": [
    "from enum import Enum\n",
    "\n",
    "\"\"\"\n",
    "Constants used for creating symbolic representation\n",
    "\"\"\"\n",
    "\n",
    "\n",
    "class Constant:\n",
    "    STATE_HEIGHT = 14\n",
    "    STATE_WIDTH = 17\n",
    "    STATE_WIDTH_BOUND = STATE_WIDTH - 1\n",
    "    SCALE_X = 25\n",
    "    SCALE_Y = 30\n",
    "\n",
    "\n",
    "class StateKey(Enum):\n",
    "    EMPTY = 1\n",
    "    FROG = 2\n",
    "    RED_CAR = 3\n",
    "    LOG = 4\n",
    "    PLATFORM = 5\n",
    "    WIN = 6\n",
    "    HAZARD_ZONE = 7\n",
    "    START = 8\n",
    "    WALL = 9\n",
    "    TUNNEL_ON_KEY = 10\n",
    "    BLUE_CAR = 11"
   ]
  },
  {
   "cell_type": "code",
   "execution_count": 4,
   "metadata": {},
   "outputs": [],
   "source": [
    "# symbolic creation\n",
    "def create_sym_rep(observation_data):\n",
    "    # frog in goal and witch ine is it ?\n",
    "    frog_in_goal = int(observation_data[33])  # 0- if none , 1 - for right most one and 2 for left one\n",
    "    # is car in tunnel\n",
    "    car_in_tunnel = int(observation_data[32])  # 1 if car is inside the tunnel\n",
    "    # frog position send them as the index for the state array\n",
    "    # (12,8) will be the start position\n",
    "    # to calculate x position (original x value - 50) / 25 and round this to nearest int (coz of the logs)\n",
    "    # y should be fixed and when it go up or down +1 or - 1\n",
    "    frog_x = int(observation_data[0])\n",
    "    frog_y = int(observation_data[1])\n",
    "\n",
    "    current_state = [[0] * Constant.STATE_WIDTH for i in range(Constant.STATE_HEIGHT)]\n",
    "\n",
    "    # reset state part\n",
    "\n",
    "    # init all to empty\n",
    "    # only need to do this from 5 - 11 index (road part)\n",
    "\n",
    "    for i in range(5, 12):\n",
    "        for j in range(0, Constant.STATE_WIDTH):\n",
    "            current_state[i][j] = StateKey.EMPTY.value\n",
    "\n",
    "    # add platform and start pos\n",
    "    # 13 - start , 12,4 platform\n",
    "    for j in range(0, Constant.STATE_WIDTH):\n",
    "        current_state[13][j] = StateKey.START.value\n",
    "        current_state[12][j] = StateKey.PLATFORM.value\n",
    "        current_state[4][j] = StateKey.PLATFORM.value\n",
    "\n",
    "    # fill with hazard zone\n",
    "    # rows 0 - 3 and col - all\n",
    "    for i in range(0, 4):\n",
    "        for j in range(0, Constant.STATE_WIDTH):\n",
    "            current_state[i][j] = StateKey.HAZARD_ZONE.value\n",
    "\n",
    "    # add goal positions\n",
    "    # if frog is in the goal mark it as hazard ???\n",
    "    # goal pos 1 is in 5 - 6 col in 0 th row\n",
    "    for j in range(5, 7):\n",
    "        # frog is in 1st goal pos\n",
    "        if frog_in_goal == 1:\n",
    "            current_state[0][j] = StateKey.HAZARD_ZONE.value\n",
    "        else:\n",
    "            current_state[0][j] = StateKey.WIN.value\n",
    "\n",
    "    # goal pos 2 is in 10 - 11 col in 0 th row\n",
    "    for j in range(10, 12):\n",
    "        # frog is in 2nd goal pos\n",
    "        if frog_in_goal == 2:\n",
    "            current_state[0][j] = StateKey.HAZARD_ZONE.value\n",
    "        else:\n",
    "            current_state[0][j] = StateKey.WIN.value\n",
    "\n",
    "    # mark tunnel\n",
    "    # if car in tunnel mark it as lit  ow as a wall\n",
    "    # its in row 8 col [6-12]\n",
    "    for j in range(6, 13):\n",
    "        # frog is in 2nd goal pos\n",
    "        if car_in_tunnel == 1:\n",
    "            current_state[8][j] = StateKey.TUNNEL_ON_KEY.value\n",
    "        else:\n",
    "            current_state[8][j] = StateKey.WALL.value\n",
    "\n",
    "    # frog position\n",
    "    # from game I can directly send frog x , y as a index for this array\n",
    "    current_state[frog_y][frog_x] = StateKey.FROG.value\n",
    "\n",
    "    # Add cars / logs\n",
    "    # array  observations [2 - 20]\n",
    "    # s , x , z\n",
    "\n",
    "    index = 1  # easy to travel the array 1st car y data at 4 th index\n",
    "    for i in range(0, 10):\n",
    "        index += 3\n",
    "        x_pos = int(observation_data[index - 1])\n",
    "        y_pos = int(observation_data[index])\n",
    "        size = int(observation_data[index - 2])\n",
    "\n",
    "        # out of view car /log\n",
    "        if x_pos + size <= 0 or x_pos > 16:\n",
    "            continue\n",
    "        elif x_pos < 0 < x_pos + size:\n",
    "            size = size + x_pos\n",
    "            x_pos = 0\n",
    "        # car in tunnel lane\n",
    "        if y_pos == 8:\n",
    "            # car is fully in tunnel\n",
    "            if x_pos >= 6 and x_pos + size <= 12:\n",
    "                continue\n",
    "            # car is left and in tunnel\n",
    "            elif x_pos < 6 <= x_pos + size:\n",
    "                for j in range(x_pos, 6):\n",
    "                    current_state[y_pos][j] = StateKey.RED_CAR.value\n",
    "            elif x_pos <= 12 < x_pos + size:\n",
    "                for j in range(13, x_pos + size):\n",
    "                    current_state[y_pos][j] = StateKey.RED_CAR.value\n",
    "            # out of tunnel\n",
    "            else:\n",
    "                for j in range(x_pos, x_pos + size):\n",
    "                    if j > 16:\n",
    "                        break\n",
    "                    current_state[y_pos][j] = StateKey.RED_CAR.value\n",
    "\n",
    "        # all other cars /logs\n",
    "        elif index <= 32:\n",
    "            # todo : get car color from game\n",
    "            # for blue cars\n",
    "            if y_pos == 5 or y_pos == 7 or y_pos == 9 or y_pos == 10:\n",
    "                for j in range(x_pos, x_pos + size):\n",
    "                    if j > 16:\n",
    "                        break\n",
    "                    current_state[y_pos][j] = StateKey.BLUE_CAR.value\n",
    "            # for red cars\n",
    "            elif y_pos == 6 or y_pos == 8 or y_pos == 11:\n",
    "                for j in range(x_pos, x_pos + size):\n",
    "                    if j > 16:\n",
    "                        break\n",
    "                    current_state[y_pos][j] = StateKey.RED_CAR.value\n",
    "            # logs\n",
    "            else:\n",
    "                for j in range(x_pos, x_pos + size):\n",
    "                    if j > 16:\n",
    "                        break\n",
    "                    current_state[y_pos][j] = StateKey.LOG.value\n",
    "\n",
    "    return  current_state"
   ]
  },
  {
   "cell_type": "code",
   "execution_count": 5,
   "metadata": {},
   "outputs": [],
   "source": [
    "# Game access class \n",
    "# Can be found in : https://github.com/CORGI-lab/DQNFrogger/blob/master/GameHandler.py"
   ]
  },
  {
   "cell_type": "code",
   "execution_count": 6,
   "metadata": {},
   "outputs": [],
   "source": [
    "import skimage\n",
    "from mlagents.envs import UnityEnvironment\n",
    "import numpy as np\n",
    "\n",
    "\n",
    "# -- game handling class -- #\n",
    "class Game:\n",
    "\n",
    "    \"\"\"\n",
    "    set up unity ml agent environment\n",
    "    @:param game_location  : file path for executable\n",
    "    \"\"\"\n",
    "    def __init__(self, game_location):\n",
    "        self.ENV_LOCATION = game_location\n",
    "        self.load_env(0)\n",
    "\n",
    "    \"\"\"\n",
    "    load unity environment\n",
    "    @:param wid  : id for the worker in unity environment \n",
    "    \"\"\"\n",
    "    def load_env(self, wid):\n",
    "        # load env\n",
    "        env_name = self.ENV_LOCATION\n",
    "        self.env = UnityEnvironment(env_name, worker_id=wid)\n",
    "        # Set the default brain to work with\n",
    "        self.default_brain = self.env.brain_names[0]\n",
    "        self.brain = self.env.brains[self.default_brain]\n",
    "        # Reset the environment - train mode enabled\n",
    "        env_info = self.env.reset(train_mode=True)[self.default_brain]\n",
    "\n",
    "    # this frogger game action space is 5, actions[0] = selected action (action = [[1]])\n",
    "    # actions\n",
    "    # 1 - up, 2 - down , 3- left , 4 -right , 0 - do nothing\n",
    "    \"\"\"\n",
    "    performs a given action to the unity game \n",
    "    @:param action_value : action to be execute\n",
    "    @:param image_height : Desire image height \n",
    "    @:param image_width  : Desire image width \n",
    "    @:param number_of_frames : stack size (this number of frames will e stack together by performing no op action )\n",
    "    @:return reward : reward for the action \n",
    "    @:return stack  : stack of frames\n",
    "    @:return terminal : if game reached terminal state or not\n",
    "    @:return observation_data : return data that need for sym reps\n",
    "    \"\"\"\n",
    "    def perform_action(self, action_value, image_height, image_width, number_of_frames=4):\n",
    "        action = [[0]]\n",
    "        action[0] = action_value\n",
    "        terminal = False  # indication of terminal state\n",
    "        # 3 - R, G, B\n",
    "        size = (image_height, image_width, 3, number_of_frames)  # create list to keep frames\n",
    "        stack = np.zeros(size)\n",
    "        # to store data to sym rep 32 data is send from game\n",
    "        observation_data = [[0] * 34 for i in range(number_of_frames)]\n",
    "\n",
    "        # first frame after action\n",
    "        env_info = self.env.step(action)[self.default_brain]  # send action to brain\n",
    "        reward = round(env_info.rewards[0], 5)  # get reward\n",
    "        new_state = env_info.visual_observations[0][0]  # get state visual observation\n",
    "        observations = env_info.vector_observations  # get vector observations\n",
    "        observation_data[0] = observations[0]\n",
    "        # new_state_gray = skimage.color.rgb2gray(new_state)  # covert to gray scale\n",
    "        new_state_gray = skimage.transform.resize(new_state, (image_height, image_width))  # resize\n",
    "        # check terminal reached\n",
    "        if env_info.local_done[0]:\n",
    "            terminal = True\n",
    "\n",
    "        # add the state to the 0 th position of stack\n",
    "        stack[:, :, :, 0] = new_state_gray\n",
    "\n",
    "        # get stack of frames after the action\n",
    "        for i in range(1, number_of_frames):\n",
    "            env_info = self.env.step()[self.default_brain]  # change environment to next step without action\n",
    "            st = env_info.visual_observations[0][0]\n",
    "            observations = env_info.vector_observations  # get vector observations\n",
    "            observation_data[i] = observations[0]\n",
    "            #st_gray = skimage.color.rgb2gray(st)\n",
    "            st_gray = skimage.transform.resize(st, (image_height, image_width))\n",
    "            stack[:, :, :, i] = st_gray\n",
    "            # if terminal only consider the reward for terminal\n",
    "            if env_info.local_done[0]:\n",
    "                terminal = True\n",
    "                reward = round(env_info.rewards[0], 5)\n",
    "\n",
    "        # reshape for Keras\n",
    "        # noinspection PyArgumentList\n",
    "        stack = stack.reshape(1, stack.shape[0], stack.shape[1], stack.shape[2], stack.shape[3])\n",
    "\n",
    "        return reward, stack, terminal, observation_data\n",
    "\n",
    "    \"\"\"\n",
    "    close environment\n",
    "    \"\"\"\n",
    "    def close(self):\n",
    "        self.env.close()\n",
    "\n",
    "    \"\"\"\n",
    "    Reset environment \n",
    "    \"\"\"\n",
    "    def reset(self):\n",
    "        self.close()\n",
    "        self.load_env(0)"
   ]
  },
  {
   "cell_type": "code",
   "execution_count": 7,
   "metadata": {},
   "outputs": [
    {
     "name": "stderr",
     "output_type": "stream",
     "text": [
      "INFO:mlagents.envs:\n",
      "'Academy' started successfully!\n",
      "Unity Academy name: Academy\n",
      "        Number of Brains: 2\n",
      "        Number of Training Brains : 1\n",
      "        Reset Parameters :\n",
      "\t\t\n",
      "Unity brain name: frogLearn\n",
      "        Number of Visual Observations (per agent): 1\n",
      "        Vector Observation space size (per agent): 34\n",
      "        Number of stacked Vector Observation: 1\n",
      "        Vector Action space type: discrete\n",
      "        Vector Action space size (per agent): [5]\n",
      "        Vector Action descriptions: \n",
      "Unity brain name: frogplay\n",
      "        Number of Visual Observations (per agent): 1\n",
      "        Vector Observation space size (per agent): 0\n",
      "        Number of stacked Vector Observation: 1\n",
      "        Vector Action space type: discrete\n",
      "        Vector Action space size (per agent): [1]\n",
      "        Vector Action descriptions: \n"
     ]
    }
   ],
   "source": [
    "# Create new unity game environment\n",
    "\n",
    "# provide game location / game executable file name shoud be givn without the file extention \n",
    "game_loation  = \"windows_build/UnityFrogger\"\n",
    "new_game = Game(game_loation)"
   ]
  },
  {
   "cell_type": "code",
   "execution_count": 8,
   "metadata": {},
   "outputs": [],
   "source": [
    "# send action to game \n",
    "# Valid actions for this game : \n",
    "#     0 - no operation \n",
    "#     1 - move up\n",
    "#     2 - move down\n",
    "#     3 - move left\n",
    "#     4 - move right\n",
    "\n",
    "action = 0# action to be send to the game \n",
    "\n",
    "# image size that you need to get as out put \n",
    "image_height  = 500 \n",
    "image_width   = 500 \n",
    "\n",
    "# send action to game \n",
    "# Output provide by this method are: \n",
    "#   reward   :  reward value for the action\n",
    "#   stack    :  stack of 4 frames with the array of size  (1, image_height, image_width, 4)\n",
    "#   terminal :  if the new state reached a terminal or not (true : terminal, false : non-terminal)\n",
    "#   obervation_data : data to create sym rep\n",
    "reward,stack,terminal,observation_data = new_game.perform_action(action, image_height, image_width)"
   ]
  },
  {
   "cell_type": "code",
   "execution_count": 9,
   "metadata": {},
   "outputs": [
    {
     "name": "stdout",
     "output_type": "stream",
     "text": [
      "Action              : 0\n",
      "Reward              : 0.0\n",
      "Is terminal reached : False\n"
     ]
    }
   ],
   "source": [
    "print(\"Action              :\", action)\n",
    "print(\"Reward              :\", reward)\n",
    "print(\"Is terminal reached :\", terminal)"
   ]
  },
  {
   "cell_type": "code",
   "execution_count": 10,
   "metadata": {},
   "outputs": [],
   "source": [
    "# create sym rep for the last frame\n",
    "symbolic = create_sym_rep(observation_data[3])"
   ]
  },
  {
   "cell_type": "code",
   "execution_count": 11,
   "metadata": {},
   "outputs": [],
   "source": [
    "# Access frames \n",
    "import matplotlib.pyplot as plt"
   ]
  },
  {
   "cell_type": "code",
   "execution_count": 12,
   "metadata": {},
   "outputs": [
    {
     "data": {
      "text/plain": [
       "<matplotlib.image.AxesImage at 0x1e209b0d828>"
      ]
     },
     "execution_count": 12,
     "metadata": {},
     "output_type": "execute_result"
    },
    {
     "data": {
      "image/png": "[encoded data removed]",
      "text/plain": [
       "<Figure size 432x288 with 1 Axes>"
      ]
     },
     "metadata": {
      "needs_background": "light"
     },
     "output_type": "display_data"
    }
   ],
   "source": [
    "# This will provide the 1 st frame in the frame stack\n",
    "plt.imshow(stack[0][:,:,:,0]) # to access other frames change last 0 in the stack list to desire frame number "
   ]
  },
  {
   "cell_type": "code",
   "execution_count": 13,
   "metadata": {},
   "outputs": [
    {
     "data": {
      "text/plain": [
       "<matplotlib.image.AxesImage at 0x1e20a185240>"
      ]
     },
     "execution_count": 13,
     "metadata": {},
     "output_type": "execute_result"
    },
    {
     "data": {
      "image/png": "[encoded data removed]",
      "text/plain": [
       "<Figure size 432x288 with 1 Axes>"
      ]
     },
     "metadata": {
      "needs_background": "light"
     },
     "output_type": "display_data"
    }
   ],
   "source": [
    "# last frame \n",
    "plt.imshow(stack[0][:,:,:,3])"
   ]
  },
  {
   "cell_type": "code",
   "execution_count": 14,
   "metadata": {},
   "outputs": [
    {
     "data": {
      "text/plain": [
       "[[7, 7, 7, 7, 7, 6, 6, 7, 7, 7, 6, 6, 7, 7, 7, 7, 7],\n",
       " [4, 7, 7, 7, 7, 7, 7, 7, 7, 7, 7, 7, 7, 7, 7, 7, 7],\n",
       " [7, 7, 7, 7, 7, 7, 7, 7, 7, 7, 4, 4, 4, 4, 7, 7, 7],\n",
       " [7, 7, 7, 7, 7, 4, 4, 4, 4, 7, 7, 7, 7, 7, 7, 7, 7],\n",
       " [5, 5, 5, 5, 5, 5, 5, 5, 5, 5, 5, 5, 5, 5, 5, 5, 5],\n",
       " [1, 11, 11, 1, 1, 1, 1, 1, 1, 1, 1, 1, 1, 1, 1, 1, 1],\n",
       " [1, 1, 1, 1, 3, 3, 3, 3, 1, 1, 1, 1, 1, 1, 1, 1, 1],\n",
       " [1, 1, 1, 1, 1, 1, 1, 1, 1, 1, 1, 1, 1, 1, 1, 1, 1],\n",
       " [1, 1, 1, 1, 1, 1, 9, 9, 9, 9, 9, 9, 9, 1, 1, 1, 1],\n",
       " [1, 1, 1, 1, 11, 11, 1, 1, 1, 1, 1, 1, 1, 1, 1, 1, 1],\n",
       " [1, 1, 1, 1, 1, 1, 1, 1, 1, 1, 1, 11, 11, 11, 11, 1, 1],\n",
       " [1, 1, 1, 1, 1, 1, 1, 1, 1, 1, 1, 1, 1, 1, 3, 3, 1],\n",
       " [5, 5, 5, 5, 5, 5, 5, 5, 2, 5, 5, 5, 5, 5, 5, 5, 5],\n",
       " [8, 8, 8, 8, 8, 8, 8, 8, 8, 8, 8, 8, 8, 8, 8, 8, 8]]"
      ]
     },
     "execution_count": 14,
     "metadata": {},
     "output_type": "execute_result"
    }
   ],
   "source": [
    "# symbolic representation for the last frame\n",
    "symbolic"
   ]
  },
  {
   "cell_type": "code",
   "execution_count": 15,
   "metadata": {},
   "outputs": [],
   "source": [
    "# close unity game\n",
    "new_game.close()"
   ]
  }
 ],
 "metadata": {
  "kernelspec": {
   "display_name": "Python 3",
   "language": "python",
   "name": "python3"
  },
  "language_info": {
   "codemirror_mode": {
    "name": "ipython",
    "version": 3
   },
   "file_extension": ".py",
   "mimetype": "text/x-python",
   "name": "python",
   "nbconvert_exporter": "python",
   "pygments_lexer": "ipython3",
   "version": "3.6.8"
  }
 },
 "nbformat": 4,
 "nbformat_minor": 2
}
