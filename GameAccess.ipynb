{
 "cells": [
  {
   "cell_type": "markdown",
   "metadata": {},
   "source": [
    "To install Unity mlagent library follow the instruction provided in their documentaion\n",
    "\n",
    "https://github.com/Unity-Technologies/ml-agents/blob/master/docs/Installation.md"
   ]
  },
  {
   "cell_type": "code",
   "execution_count": 1,
   "metadata": {},
   "outputs": [],
   "source": [
    "# To test if the library instalation successfull run the following\n",
    "from mlagents.envs import UnityEnvironment\n",
    "# If no error occors instalation is success "
   ]
  },
  {
   "cell_type": "markdown",
   "metadata": {},
   "source": [
    "Download the game from following link\n",
    "https://drive.google.com/drive/u/0/folders/155Z71QdXSCa7XRmnzXggb1ZwJl-A6iZd\n",
    "\n",
    "<b> Windows users : </b> windows_build \n",
    "\n",
    "<b> Linux users   : </b> linux_build"
   ]
  },
  {
   "cell_type": "code",
   "execution_count": 2,
   "metadata": {},
   "outputs": [],
   "source": [
    "# Game access class \n",
    "# Can be found in : https://github.com/CORGI-lab/DQNFrogger/blob/master/GameHandler.py"
   ]
  },
  {
   "cell_type": "code",
   "execution_count": 3,
   "metadata": {},
   "outputs": [],
   "source": [
    "import skimage\n",
    "from mlagents.envs import UnityEnvironment\n",
    "import numpy as np\n",
    "\n",
    "\n",
    "# -- game handling class -- #\n",
    "class Game:\n",
    "\n",
    "    \"\"\"\n",
    "    set up unity ml agent environment\n",
    "    @:param game_location  : file path for executable\n",
    "    \"\"\"\n",
    "    def __init__(self, game_location):\n",
    "        self.ENV_LOCATION = game_location\n",
    "        self.load_env(0)\n",
    "\n",
    "    \"\"\"\n",
    "    load unity environment\n",
    "    @:param wid  : id for the worker in unity environment \n",
    "    \"\"\"\n",
    "    def load_env(self, wid):\n",
    "        # load env\n",
    "        env_name = self.ENV_LOCATION\n",
    "        self.env = UnityEnvironment(env_name, worker_id=wid)\n",
    "        # Set the default brain to work with\n",
    "        self.default_brain = self.env.brain_names[0]\n",
    "        self.brain = self.env.brains[self.default_brain]\n",
    "        # Reset the environment - train mode enabled\n",
    "        env_info = self.env.reset(train_mode=True)[self.default_brain]\n",
    "\n",
    "    # this frogger game action space is 5, actions[0] = selected action (action = [[1]])\n",
    "    # actions\n",
    "    # 1 - up, 2 - down , 3- left , 4 -right , 0 - do nothing\n",
    "    \"\"\"\n",
    "    performs a given action to the unity game \n",
    "    @:param action_value : action to be execute\n",
    "    @:param image_height : Desire image height \n",
    "    @:param image_width  : Desire image width \n",
    "    @:param number_of_frames : stack size (this number of frames will e stack together by performing no op action )\n",
    "    @:return reward : reward for the action \n",
    "    @:return stack  : stack of frames\n",
    "    @:return terminal : if game reached terminal state or not\n",
    "    \"\"\"\n",
    "    def perform_action(self, action_value, image_height, image_width, number_of_frames=4):\n",
    "        action = [[0]]\n",
    "        action[0] = action_value\n",
    "        terminal = False  # indication of terminal state\n",
    "        # 3 - R, G, B\n",
    "        size = (image_height, image_width, 3, number_of_frames)  # create list to keep frames\n",
    "        stack = np.zeros(size)\n",
    "\n",
    "        # first frame after action\n",
    "        env_info = self.env.step(action)[self.default_brain]  # send action to brain\n",
    "        reward = round(env_info.rewards[0], 5)  # get reward\n",
    "        new_state = env_info.visual_observations[0][0]  # get state visual observation\n",
    "        # new_state_gray = skimage.color.rgb2gray(new_state)  # covert to gray scale\n",
    "        new_state_gray = skimage.transform.resize(new_state, (image_height, image_width))  # resize\n",
    "        # check terminal reached\n",
    "        if env_info.local_done[0]:\n",
    "            terminal = True\n",
    "\n",
    "        # add the state to the 0 th position of stack\n",
    "        stack[:, :, :, 0] = new_state_gray\n",
    "\n",
    "        # get stack of frames after the action\n",
    "        for i in range(1, number_of_frames):\n",
    "            env_info = self.env.step()[self.default_brain]  # change environment to next step without action\n",
    "            st = env_info.visual_observations[0][0]\n",
    "            #st_gray = skimage.color.rgb2gray(st)\n",
    "            st_gray = skimage.transform.resize(st, (image_height, image_width))\n",
    "            stack[:, :, :, i] = st_gray\n",
    "            # if terminal only consider the reward for terminal\n",
    "            if env_info.local_done[0]:\n",
    "                terminal = True\n",
    "                reward = round(env_info.rewards[0], 5)\n",
    "\n",
    "        # reshape for Keras\n",
    "        # noinspection PyArgumentList\n",
    "        stack = stack.reshape(1, stack.shape[0], stack.shape[1], stack.shape[2], stack.shape[3])\n",
    "\n",
    "        return reward, stack, terminal\n",
    "\n",
    "    \"\"\"\n",
    "    close environment\n",
    "    \"\"\"\n",
    "    def close(self):\n",
    "        self.env.close()\n",
    "\n",
    "    \"\"\"\n",
    "    Reset environment \n",
    "    \"\"\"\n",
    "    def reset(self):\n",
    "        self.close()\n",
    "        self.load_env(0)"
   ]
  },
  {
   "cell_type": "code",
   "execution_count": 4,
   "metadata": {},
   "outputs": [
    {
     "name": "stderr",
     "output_type": "stream",
     "text": [
      "INFO:mlagents.envs:\n",
      "'Academy' started successfully!\n",
      "Unity Academy name: Academy\n",
      "        Number of Brains: 2\n",
      "        Number of Training Brains : 1\n",
      "        Reset Parameters :\n",
      "\t\t\n",
      "Unity brain name: frogLearn\n",
      "        Number of Visual Observations (per agent): 1\n",
      "        Vector Observation space size (per agent): 0\n",
      "        Number of stacked Vector Observation: 1\n",
      "        Vector Action space type: discrete\n",
      "        Vector Action space size (per agent): [5]\n",
      "        Vector Action descriptions: \n",
      "Unity brain name: frogplay\n",
      "        Number of Visual Observations (per agent): 1\n",
      "        Vector Observation space size (per agent): 0\n",
      "        Number of stacked Vector Observation: 1\n",
      "        Vector Action space type: discrete\n",
      "        Vector Action space size (per agent): [1]\n",
      "        Vector Action descriptions: \n"
     ]
    }
   ],
   "source": [
    "# Create new unity game environment\n",
    "\n",
    "# provide game location / game executable file name shoud be givn without the file extention \n",
    "game_loation  = \"windows_build/UnityFrogger\"\n",
    "new_game = Game(game_loation)"
   ]
  },
  {
   "cell_type": "code",
   "execution_count": 5,
   "metadata": {},
   "outputs": [],
   "source": [
    "# send action to game \n",
    "# Valid actions for this game : \n",
    "#     0 - no operation \n",
    "#     1 - move up\n",
    "#     2 - move down\n",
    "#     3 - move left\n",
    "#     4 - move right\n",
    "\n",
    "action =  0 # action to be send to the game \n",
    "\n",
    "# image size that you need to get as out put \n",
    "image_height  = 320 \n",
    "image_width   = 320 \n",
    "\n",
    "# send action to game \n",
    "# Output provide by this method are: \n",
    "#   reward   :  reward value for the action\n",
    "#   stack    :  stack of 4 frames with the array of size  (1, image_height, image_width, 4)\n",
    "#   terminal :  if the new state reached a terminal or not (true : terminal, false : non-terminal)\n",
    "reward,stack,terminal = new_game.perform_action(action, image_height, image_width)"
   ]
  },
  {
   "cell_type": "code",
   "execution_count": 6,
   "metadata": {},
   "outputs": [
    {
     "name": "stdout",
     "output_type": "stream",
     "text": [
      "Action              : 0\n",
      "Reward              : 0.0\n",
      "Is terminal reached : False\n"
     ]
    }
   ],
   "source": [
    "print(\"Action              :\", action)\n",
    "print(\"Reward              :\", reward)\n",
    "print(\"Is terminal reached :\", terminal)"
   ]
  },
  {
   "cell_type": "code",
   "execution_count": 7,
   "metadata": {},
   "outputs": [],
   "source": [
    "# Access frames \n",
    "import matplotlib.pyplot as plt"
   ]
  },
  {
   "cell_type": "code",
   "execution_count": 8,
   "metadata": {},
   "outputs": [
    {
     "data": {
      "text/plain": [
       "<matplotlib.image.AxesImage at 0x244bd224da0>"
      ]
     },
     "execution_count": 8,
     "metadata": {},
     "output_type": "execute_result"
    },
    {
     "data": {
      "image/png": "[encoded data removed]",
      "text/plain": [
       "<Figure size 432x288 with 1 Axes>"
      ]
     },
     "metadata": {
      "needs_background": "light"
     },
     "output_type": "display_data"
    }
   ],
   "source": [
    "# This will provide the 1 st frame in the frame stack\n",
    "plt.imshow(stack[0][:,:,:,0]) # to access other frames change last 0 in the stack list to desire frame number "
   ]
  },
  {
   "cell_type": "code",
   "execution_count": 9,
   "metadata": {},
   "outputs": [],
   "source": [
    "# close unity game\n",
    "new_game.close()"
   ]
  }
 ],
 "metadata": {
  "kernelspec": {
   "display_name": "Python 3",
   "language": "python",
   "name": "python3"
  },
  "language_info": {
   "codemirror_mode": {
    "name": "ipython",
    "version": 3
   },
   "file_extension": ".py",
   "mimetype": "text/x-python",
   "name": "python",
   "nbconvert_exporter": "python",
   "pygments_lexer": "ipython3",
   "version": "3.6.8"
  }
 },
 "nbformat": 4,
 "nbformat_minor": 2
}
